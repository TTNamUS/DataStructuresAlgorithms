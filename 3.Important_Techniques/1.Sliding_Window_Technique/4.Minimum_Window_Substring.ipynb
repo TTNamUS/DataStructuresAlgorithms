{
 "cells": [
  {
   "attachments": {},
   "cell_type": "markdown",
   "metadata": {},
   "source": [
    "# **<center> <span style=\"color:blue\"> Minimum Window Substring </span> </center>**"
   ]
  },
  {
   "attachments": {},
   "cell_type": "markdown",
   "metadata": {},
   "source": [
    "### **<span style=\"color:green\"> Minimum Window Substring </span>**\n",
    "#### **Question —** Given two strings `s` and `t` of lengths `m` and `n` respectively, return the minimum window substring of `s` such that every character in `t` (including duplicates) is included in the window. If there is no such substring, return the empty string `\"\"`.\n",
    "\n",
    "A substring is a contiguous sequence of characters within the string.\n",
    "\n",
    "##### **Case:**\n",
    "> **Input:** s = \"ADOBECODEBANC\", t = \"ABC\"\n",
    ">\n",
    "> **Output:** \"BANC\"\n",
    ">\n",
    "> **Explanation:** The minimum window substring \"BANC\" includes 'A', 'B', and 'C' from string t."
   ]
  },
  {
   "attachments": {},
   "cell_type": "markdown",
   "metadata": {},
   "source": [
    "#### **Solution :**\n",
    "##### **Main Logic/Idea —**\n",
    "> Create two hashmaps to store the count of s and t. Start from left and keep adding the count of characters in s and comparing it with the count of characters in t.\n",
    ">\n",
    "> As soon as the count is matched i.e t==v then store the window length, slide the window and start again by discarding the characters from the current window one by one and decrement t count by one.\n",
    ">\n",
    "> Return the string window which contains all the characters in t corresponding to s.\n",
    ">\n",
    "> Note : this is a very good problem to understand sliding window strategy.\n",
    "##### **Implementation —**"
   ]
  },
  {
   "cell_type": "code",
   "execution_count": 1,
   "metadata": {},
   "outputs": [],
   "source": [
    "def minWindow(s: str, t: str) -> str:\n",
    "        hashT, hashS, ans, ansLength, left = {}, {}, [-1, -1], float(\"infinity\"), 0\n",
    "        \n",
    "        for i in t:\n",
    "            hashT[i] = 1+ hashT.get(i, 0)\n",
    "            \n",
    "        t,v = 0, len(hashT)\n",
    "        \n",
    "        for p in range(len(s)):\n",
    "            i = s[p]\n",
    "            hashS[i] = 1 + hashS.get(i, 0)\n",
    "            \n",
    "            if i in hashT and hashS[i] == hashT[i]:\n",
    "                t += 1\n",
    "                \n",
    "            while t == v:\n",
    "                if (p - left + 1) < ansLength:\n",
    "                    ans = [left, p]\n",
    "                    ansLength=(p - left + 1)\n",
    "                hashS[s[left]] -=1\n",
    "                if s[left] in hashT and hashS[s[left]] < hashT[s[left]]:\n",
    "                    t -=1\n",
    "                left +=1\n",
    "        left, p = ans\n",
    "        return s[left:p+1] if ansLength != float(\"infinity\") else \"\""
   ]
  },
  {
   "attachments": {},
   "cell_type": "markdown",
   "metadata": {},
   "source": [
    "##### **Test Case:**"
   ]
  },
  {
   "cell_type": "code",
   "execution_count": 2,
   "metadata": {},
   "outputs": [
    {
     "data": {
      "text/plain": [
       "'BANC'"
      ]
     },
     "execution_count": 2,
     "metadata": {},
     "output_type": "execute_result"
    }
   ],
   "source": [
    "s = \"ADOBECODEBANC\"\n",
    "t = \"ABC\"\n",
    "ans = minWindow(s, t)\n",
    "ans"
   ]
  },
  {
   "attachments": {},
   "cell_type": "markdown",
   "metadata": {},
   "source": [
    "#### **Question [Link](https://leetcode.com/problems/minimum-window-substring/)**\n",
    "## **Similar Pattern —**\n",
    "[Smallest Range Covering Elements from K Lists](https://leetcode.com/problems/smallest-range-covering-elements-from-k-lists/)\n",
    "\n",
    "[Minimum Window Subsequence](https://leetcode.com/problems/minimum-window-subsequence/)"
   ]
  }
 ],
 "metadata": {
  "kernelspec": {
   "display_name": "Python 3",
   "language": "python",
   "name": "python3"
  },
  "language_info": {
   "codemirror_mode": {
    "name": "ipython",
    "version": 3
   },
   "file_extension": ".py",
   "mimetype": "text/x-python",
   "name": "python",
   "nbconvert_exporter": "python",
   "pygments_lexer": "ipython3",
   "version": "3.10.5 (tags/v3.10.5:f377153, Jun  6 2022, 16:14:13) [MSC v.1929 64 bit (AMD64)]"
  },
  "orig_nbformat": 4,
  "vscode": {
   "interpreter": {
    "hash": "6d5b3700750bb233553397e1738ff408efdf1f93150754eb3685d72f9fc5da7b"
   }
  }
 },
 "nbformat": 4,
 "nbformat_minor": 2
}
