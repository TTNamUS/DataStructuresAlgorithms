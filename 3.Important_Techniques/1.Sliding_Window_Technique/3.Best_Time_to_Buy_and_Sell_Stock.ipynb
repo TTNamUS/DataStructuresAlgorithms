{
 "cells": [
  {
   "attachments": {},
   "cell_type": "markdown",
   "metadata": {},
   "source": [
    "# **<center> <span style=\"color:blue\"> Best Time to Buy and Sell Stock </span> </center>**"
   ]
  },
  {
   "attachments": {},
   "cell_type": "markdown",
   "metadata": {},
   "source": [
    "### **<span style=\"color:green\"> Best Time to Buy and Sell Stock </span>**\n",
    "#### **Question —** You are given an array `prices` where prices[i] is the price of a given stock on the `ith` day.\n",
    "\n",
    "You want to maximize your profit by choosing a single day to buy one stock and choosing a different day in the future to sell that stock.\n",
    "\n",
    "Return **the maximum profit you can achieve from this transaction**. If you cannot achieve any profit, return `0`.\n",
    "##### **Case:**\n",
    "> **Input:** prices = [7,1,5,3,6,4]\n",
    ">\n",
    "> **Output:** 5"
   ]
  },
  {
   "attachments": {},
   "cell_type": "markdown",
   "metadata": {},
   "source": [
    "#### **Solution :**\n",
    "##### **Main Logic/Idea —**\n",
    "> Buy the stock when price is low and sell when price is high. Sliding Window is decided by the two pointers say left and right. Left is initialized to start and right keeps on moving till the length of prices list. Profit is prices at right pointer minus left pointer and then calculate if thats the max profit.\n",
    "##### **Implementation —**"
   ]
  },
  {
   "cell_type": "code",
   "execution_count": 1,
   "metadata": {},
   "outputs": [],
   "source": [
    "from typing import List\n",
    "def maxProfit(prices: List[int]) -> int:\n",
    "        lptr, rptr, maxProfit = 0, 1, 0\n",
    "        \n",
    "        while rptr < len(prices):\n",
    "            if prices[lptr] < prices[rptr]:\n",
    "                ans = prices[rptr]- prices[lptr]\n",
    "                maxProfit= max(ans, maxProfit)\n",
    "            else:\n",
    "                lptr = rptr\n",
    "            rptr += 1 \n",
    "        return maxProfit"
   ]
  },
  {
   "attachments": {},
   "cell_type": "markdown",
   "metadata": {},
   "source": [
    "##### **Test Case:**"
   ]
  },
  {
   "cell_type": "code",
   "execution_count": 2,
   "metadata": {},
   "outputs": [
    {
     "data": {
      "text/plain": [
       "5"
      ]
     },
     "execution_count": 2,
     "metadata": {},
     "output_type": "execute_result"
    }
   ],
   "source": [
    "prices = [7,1,5,3,6,4]\n",
    "ans = maxProfit(prices)\n",
    "ans"
   ]
  },
  {
   "attachments": {},
   "cell_type": "markdown",
   "metadata": {},
   "source": [
    "#### **Question [Link](https://leetcode.com/problems/best-time-to-buy-and-sell-stock/)**\n",
    "## **Similar Pattern —**\n",
    "[Best Time to Buy and Sell Stock IV](https://leetcode.com/problems/best-time-to-buy-and-sell-stock-iv/)\n",
    "\n",
    "[Best Time to Buy and Sell Stock with Cooldown](https://leetcode.com/problems/best-time-to-buy-and-sell-stock-with-cooldown/)\n",
    "\n",
    "[Sum of Beauty in the Array](https://leetcode.com/problems/sum-of-beauty-in-the-array/)\n",
    "\n",
    "[Maximum Difference Between Increasing Elements](https://leetcode.com/problems/maximum-difference-between-increasing-elements/)\n",
    "\n",
    "[Maximum Profit From Trading Stocks](https://leetcode.com/problems/maximum-profit-from-trading-stocks/)"
   ]
  }
 ],
 "metadata": {
  "kernelspec": {
   "display_name": "Python 3",
   "language": "python",
   "name": "python3"
  },
  "language_info": {
   "codemirror_mode": {
    "name": "ipython",
    "version": 3
   },
   "file_extension": ".py",
   "mimetype": "text/x-python",
   "name": "python",
   "nbconvert_exporter": "python",
   "pygments_lexer": "ipython3",
   "version": "3.10.5 (tags/v3.10.5:f377153, Jun  6 2022, 16:14:13) [MSC v.1929 64 bit (AMD64)]"
  },
  "orig_nbformat": 4,
  "vscode": {
   "interpreter": {
    "hash": "6d5b3700750bb233553397e1738ff408efdf1f93150754eb3685d72f9fc5da7b"
   }
  }
 },
 "nbformat": 4,
 "nbformat_minor": 2
}
