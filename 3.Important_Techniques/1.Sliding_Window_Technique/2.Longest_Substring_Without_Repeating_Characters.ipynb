{
 "cells": [
  {
   "attachments": {},
   "cell_type": "markdown",
   "metadata": {},
   "source": [
    "# **<center> <span style=\"color:blue\"> Longest Substring Without Repeating Characters </span> </center>**"
   ]
  },
  {
   "attachments": {},
   "cell_type": "markdown",
   "metadata": {},
   "source": [
    "### **<span style=\"color:green\"> Longest Substring Without Repeating Characters </span>**\n",
    "#### **Question —** Given a string `s`, find the length of the longest substring without repeating characters.\n",
    "##### **Case:**\n",
    "> **Input:** s = \"pwwkew\"\n",
    ">\n",
    "> **Output:** 3"
   ]
  },
  {
   "attachments": {},
   "cell_type": "markdown",
   "metadata": {},
   "source": [
    "#### **Solution :**\n",
    "##### **Main Logic/Idea —**\n",
    "> Start from first character ( left pointer) and keep adding the characters to the sliding window ( right pointer) until you find a duplicate character. Once the duplicate is found, move the sliding window to right by 1, shrink the window by leaving/taking out the left most character and keep adding characters from right until you find a duplicate. Use a set to remove the duplicates.\n",
    "##### **Implementation —**"
   ]
  },
  {
   "cell_type": "code",
   "execution_count": 1,
   "metadata": {},
   "outputs": [],
   "source": [
    "def lengthOfLongestSubstring(s: str) -> int:\n",
    "        stringSet, lptr, ans = set(), 0, 0\n",
    "        \n",
    "        for rptr in range(len(s)):\n",
    "            while s[rptr] in stringSet:\n",
    "                stringSet.remove(s[lptr])\n",
    "                lptr += 1\n",
    "            \n",
    "            stringSet.add(s[rptr])\n",
    "            window = rptr - lptr + 1 \n",
    "            ans = max(ans, window)\n",
    "        return ans"
   ]
  },
  {
   "attachments": {},
   "cell_type": "markdown",
   "metadata": {},
   "source": [
    "##### **Test Case:**"
   ]
  },
  {
   "cell_type": "code",
   "execution_count": 2,
   "metadata": {},
   "outputs": [
    {
     "name": "stdout",
     "output_type": "stream",
     "text": [
      "3\n"
     ]
    }
   ],
   "source": [
    "s = \"pwwkewe\"\n",
    "p = lengthOfLongestSubstring(s)\n",
    "print(p)"
   ]
  },
  {
   "attachments": {},
   "cell_type": "markdown",
   "metadata": {},
   "source": [
    "#### **Question [Link](https://leetcode.com/problems/longest-substring-without-repeating-characters/)**\n",
    "## **Similar Pattern —**\n",
    "[Longest Substring with At Most Two Distinct Characters](https://leetcode.com/problems/longest-substring-with-at-most-two-distinct-characters/)\n",
    "\n",
    "[Longest Substring with At Most K Distinct Characters](https://leetcode.com/problems/longest-substring-with-at-most-k-distinct-characters/)\n",
    "\n",
    "[Subarrays with K Different Integers](https://leetcode.com/problems/subarrays-with-k-different-integers/)\n",
    "\n",
    "[Maximum Erasure Value](https://leetcode.com/problems/maximum-erasure-value/)\n",
    "\n",
    "[Number of Equal Count Substrings](https://leetcode.com/problems/number-of-equal-count-substrings/)\n",
    "\n",
    "[Minimum Consecutive Cards to Pick UpLongest Nice Subarray](https://leetcode.com/problems/minimum-consecutive-cards-to-pick-up/)"
   ]
  }
 ],
 "metadata": {
  "kernelspec": {
   "display_name": "Python 3",
   "language": "python",
   "name": "python3"
  },
  "language_info": {
   "codemirror_mode": {
    "name": "ipython",
    "version": 3
   },
   "file_extension": ".py",
   "mimetype": "text/x-python",
   "name": "python",
   "nbconvert_exporter": "python",
   "pygments_lexer": "ipython3",
   "version": "3.10.5 (tags/v3.10.5:f377153, Jun  6 2022, 16:14:13) [MSC v.1929 64 bit (AMD64)]"
  },
  "orig_nbformat": 4,
  "vscode": {
   "interpreter": {
    "hash": "6d5b3700750bb233553397e1738ff408efdf1f93150754eb3685d72f9fc5da7b"
   }
  }
 },
 "nbformat": 4,
 "nbformat_minor": 2
}
