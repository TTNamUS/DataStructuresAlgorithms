{
 "cells": [
  {
   "attachments": {},
   "cell_type": "markdown",
   "metadata": {},
   "source": [
    "# **<center> <span style=\"color:blue\"> Sliding Window Technique </span> </center>**"
   ]
  },
  {
   "attachments": {},
   "cell_type": "markdown",
   "metadata": {},
   "source": [
    "### **<span style=\"color:olive\"> What is Sliding Window? </span>**\n",
    "- It’s a technique which is used to reduce multiple loops to a single loop using a window which in turn reduces the time complexity of the program. The **size of window** is of prime importance here.\n",
    "### **<span style=\"color:olive\"> How does Sliding window works? </span>**\n",
    "- This involves two steps —\n",
    "> **1.** Figure out the size of window and do the computation\n",
    "> \n",
    "> **2.** Move the window by 1 ( which is basically called sliding) and compute the result of new window.\n",
    "### **<span style=\"color:olive\"> Important Patterns and Techniques in Sliding Window Questions </span>**\n",
    "- How to identify Sliding Window Questions?\n",
    "- Those questions ( especially strings) in which you are asked to compute —\n",
    "> **Min/max of subarray**\n",
    ">\n",
    "> **Longest/count of characters of substrings**\n",
    ">\n",
    "> **Permutation/combinations in Strings**\n",
    "### **<span style=\"color:olive\"> Technique to solve Sliding window Questions </span>**\n",
    "- Once you have computed the sum of window of size k, move your window to get the sum of next overlapping window by leaving the leftmost element in the list and add/include the rightmost element. By doing this we are reducing the time complexity ( from O(n²) to O(n)) of re-computation of the part which is static/non-changing in every window of size k.\n",
    "### **<span style=\"color:olive\"> Only Most Important Questions with Solutions </span>**\n",
    "*<center>Golden rule is — Learn by doing/implementing</center>*\n",
    "- In this we will see most important sliding window questions.\n",
    "- Lets dive in!"
   ]
  },
  {
   "attachments": {},
   "cell_type": "markdown",
   "metadata": {},
   "source": [
    "### **<span style=\"color:olive\"> Tips and Techniques to solve Sliding Window Questions Fast — </span>**\n",
    "> **1.** Pay attention to that part of the question where **you are doing re-computation** repeatedly as you slide. Store the sum in variable and keep sliding and iterating.\n",
    "> \n",
    "> **2.** Think dynamically ( Dynamic programming practice can help)\n",
    "> \n",
    "> **3.** Brute force method will lead to **O(n *k) Time, O(1) Space complexity and after applying sliding window the complexity is reduced to O(n) Time & O(n) Space.**\n",
    "> \n",
    "> **4.** Have a grip on **how to move indexes** ( like to find next greater element) or store the result."
   ]
  },
  {
   "attachments": {},
   "cell_type": "markdown",
   "metadata": {},
   "source": [
    "## **<span style=\"color:blue\"> Most important String Sliding window questions - </span>**"
   ]
  },
  {
   "attachments": {},
   "cell_type": "markdown",
   "metadata": {},
   "source": [
    "### [**<span style=\"color:green\">Longest Substring Without Repeating Characters</span>**](https://leetcode.com/problems/longest-substring-without-repeating-characters/)\n",
    "\n",
    "### [**<span style=\"color:green\">Best Time to Buy and Sell Stock</span>**](https://leetcode.com/problems/best-time-to-buy-and-sell-stock/)\n",
    "\n",
    "### [**<span style=\"color:green\">Minimum Window Substring</span>**](https://leetcode.com/problems/minimum-window-substring/)\n",
    "\n",
    "### [**<span style=\"color:green\">Repeated DNA Sequences</span>**](https://leetcode.com/problems/repeated-dna-sequences/)\n",
    "\n",
    "### [**<span style=\"color:green\">Minimum Size Subarray Sum</span>**](https://leetcode.com/problems/minimum-size-subarray-sum/)\n",
    "\n",
    "### [**<span style=\"color:green\">Sliding Window Maximum</span>**](https://leetcode.com/problems/sliding-window-maximum/)\n",
    "\n",
    "### [**<span style=\"color:green\">Longest Repeating Character Replacement</span>**](https://leetcode.com/problems/longest-repeating-character-replacement/)\n",
    "\n",
    "### [**<span style=\"color:green\">Permutation in String</span>**](https://leetcode.com/problems/permutation-in-string/)\n",
    "\n",
    "### [**<span style=\"color:green\">Count Unique Characters of All Substrings of a Given String</span>**](https://leetcode.com/problems/count-unique-characters-of-all-substrings-of-a-given-string/)\n",
    "\n",
    "### [**<span style=\"color:green\">Fruit Into Baskets</span>**](https://leetcode.com/problems/fruit-into-baskets/)\n",
    "\n",
    "### [**<span style=\"color:green\">Minimum Number of Flips to Make the Binary String Alternating</span>**](https://leetcode.com/problems/minimum-number-of-flips-to-make-the-binary-string-alternating/)\n",
    "\n",
    "### [**<span style=\"color:green\">Substring with Concatenation of All Words</span>**](https://leetcode.com/problems/substring-with-concatenation-of-all-words/)\n",
    "\n",
    "### [**<span style=\"color:green\">Find All Anagrams in a String</span>**](https://leetcode.com/problems/find-all-anagrams-in-a-string/)\n",
    "\n",
    "### [**<span style=\"color:green\">Longest Substring with At Most Two Distinct Characters</span>**](https://leetcode.com/problems/longest-substring-with-at-most-two-distinct-characters/)\n",
    "\n",
    "### [**<span style=\"color:green\">Longest Substring with At Most K Distinct Characters</span>**](https://leetcode.com/problems/longest-substring-with-at-most-k-distinct-characters/)\n",
    "\n",
    "### [**<span style=\"color:green\">Minimum Number of K Consecutive Bit Flips</span>**](https://leetcode.com/problems/minimum-number-of-k-consecutive-bit-flips/)"
   ]
  }
 ],
 "metadata": {
  "kernelspec": {
   "display_name": "Python 3.10.5 64-bit",
   "language": "python",
   "name": "python3"
  },
  "language_info": {
   "codemirror_mode": {
    "name": "ipython",
    "version": 3
   },
   "file_extension": ".py",
   "mimetype": "text/x-python",
   "name": "python",
   "nbconvert_exporter": "python",
   "pygments_lexer": "ipython3",
   "version": "3.10.5 (tags/v3.10.5:f377153, Jun  6 2022, 16:14:13) [MSC v.1929 64 bit (AMD64)]"
  },
  "orig_nbformat": 4,
  "vscode": {
   "interpreter": {
    "hash": "6d5b3700750bb233553397e1738ff408efdf1f93150754eb3685d72f9fc5da7b"
   }
  }
 },
 "nbformat": 4,
 "nbformat_minor": 2
}
