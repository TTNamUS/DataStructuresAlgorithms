{
 "cells": [
  {
   "attachments": {},
   "cell_type": "markdown",
   "metadata": {},
   "source": [
    "# **<center> <span style=\"color:blue\"> Data Structures Algorithms made Easy </span> </center>**"
   ]
  },
  {
   "attachments": {},
   "cell_type": "markdown",
   "metadata": {},
   "source": [
    "## **<span style=\"color:olive\"> 1. Topics that are more important ( based on ROI) </span>**"
   ]
  },
  {
   "attachments": {},
   "cell_type": "markdown",
   "metadata": {},
   "source": [
    "- To prepare a strategy first understand what’s important and what’s not. It will help you choose the next topic to study more objectively.\n",
    "\n",
    "- First understand how topics are connected to each other ( read the flows below).\n",
    "> **Flow 1**\n",
    ">\n",
    "> > Arrays → Strings → Hash Table → Binary Search → Stack → Queues → Heap\n",
    ">\n",
    "> **Flow 2**\n",
    ">\n",
    "> > Recursion → Binary Tree → Dynamic Programming → Graph\n",
    ">\n",
    "> **Flow 3**\n",
    ">\n",
    "> > Binary Tree → Binary Search Tree → Trie\n",
    ">\n",
    "> **Flow 4**\n",
    "> > Graph → Union Find → Topological Sort → MST → Djikstra\n",
    "- Using the above flows you can easily determine that a solid understanding of prior topic is important for the next topic in each flows.\n",
    "\n",
    "- Once you have determined what to study then plan how to study ( i.e focussed strategy)"
   ]
  },
  {
   "attachments": {},
   "cell_type": "markdown",
   "metadata": {},
   "source": [
    "## **<span style=\"color:olive\"> 2. Focused Strategy </span>**"
   ]
  },
  {
   "cell_type": "markdown",
   "metadata": {},
   "source": [
    "- After you have refined which topics to study first, then prepare a strategy where everything is timed. Let’s say you are asked a problem, then the blueprint should be —\n",
    "> Understand the problem ( 5 minutes)\n",
    ">\n",
    "> Take examples and explain the brute force thought process ( 7 minutes)\n",
    ">\n",
    "> Break the problem and optimize ( 12 minutes) —\n",
    ">\n",
    "> - Base Cases\n",
    ">\n",
    "> - Main Code ( write the pseudo code)\n",
    ">\n",
    "> - Edge Cases\n",
    ">\n",
    "> - Complexity analysis discussion\n",
    ">\n",
    "> Debug the errors ( 5 minutes)\n",
    ">\n",
    "> Run test cases ( 7 minutes)\n",
    ">\n",
    "> Further discussion ( 3 minutes)\n",
    ">\n",
    "> **=> Total time taken — 40 minutes**\n",
    "\n",
    "### **What not to do —**\n",
    "> During your prep, **don’t memorize solutions** instead **figure out the pattern and understand objective of the problem.**\n",
    ">\n",
    "> Don’t follow easy — medium — hard problem pattern. A problem is a problem, so build an aptitude to solve a hard problem with same ease as an easy problem. This will help you understand the depth of the topics better."
   ]
  }
 ],
 "metadata": {
  "kernelspec": {
   "display_name": "Python 3.10.5 64-bit",
   "language": "python",
   "name": "python3"
  },
  "language_info": {
   "name": "python",
   "version": "3.10.5 (tags/v3.10.5:f377153, Jun  6 2022, 16:14:13) [MSC v.1929 64 bit (AMD64)]"
  },
  "orig_nbformat": 4,
  "vscode": {
   "interpreter": {
    "hash": "6d5b3700750bb233553397e1738ff408efdf1f93150754eb3685d72f9fc5da7b"
   }
  }
 },
 "nbformat": 4,
 "nbformat_minor": 2
}
